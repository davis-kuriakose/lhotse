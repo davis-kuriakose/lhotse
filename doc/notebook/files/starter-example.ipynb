{
 "cells": [
  {
   "cell_type": "markdown",
   "id": "edecc220-7167-448a-9531-ef9d5e32f38c",
   "metadata": {},
   "source": [
    "# Set up"
   ]
  },
  {
   "cell_type": "code",
   "execution_count": null,
   "id": "5f3f1219-5dfc-4d2b-8b47-9b6955cc7fda",
   "metadata": {},
   "outputs": [],
   "source": [
    "import io\n",
    "import pprint\n",
    "import requests\n",
    "import json\n",
    "from keycloak import KeycloakAdmin\n",
    "from keycloak import KeycloakOpenID\n",
    "\n",
    "APP_BASE_URL='http://localhost:8080'\n",
    "APP_ADMIN_USERNAME='admin@everest.engineering'\n",
    "APP_ADMIN_PASSWORD='ac0n3x72'\n",
    "\n",
    "KEYCLOAK_BASE_URL='http://localhost:8180'\n",
    "KEYCLOAK_ADMIN_USERNAME='admin@everest.engineering'\n",
    "KEYCLOAK_ADMIN_PASSWORD='ac0n3x72'\n",
    "\n",
    "# This needs to be generated in Keycloak for the 'default-client' in the 'default' realm. See the top level README.md\n",
    "OID_CLIENT_SECRET='3b589b78-3280-43d4-ab32-b7e37b40781a'\n",
    "\n",
    "pp = pprint.PrettyPrinter()\n",
    "\n",
    "oid_client = KeycloakOpenID(\n",
    "    server_url=f\"{KEYCLOAK_BASE_URL}/auth/\",\n",
    "    realm_name=\"default\",\n",
    "    client_id=\"default-client\",\n",
    "    client_secret_key=OID_CLIENT_SECRET,\n",
    "    verify=False)"
   ]
  },
  {
   "cell_type": "markdown",
   "id": "e0f36133-ec80-467f-b923-fd188a7a2849",
   "metadata": {},
   "source": [
    "## Application admin login"
   ]
  },
  {
   "cell_type": "code",
   "execution_count": null,
   "id": "87ec4184-d6db-43e8-9bf0-73cf4b0a859d",
   "metadata": {},
   "outputs": [],
   "source": [
    "admin_tokens = oid_client.token(APP_ADMIN_USERNAME, APP_ADMIN_PASSWORD)\n",
    "pp.pprint(admin_tokens)"
   ]
  },
  {
   "cell_type": "code",
   "execution_count": null,
   "id": "1858b48f-d3da-4368-a8a8-4bcfe3136ad0",
   "metadata": {},
   "outputs": [],
   "source": [
    "admin_userinfo = oid_client.userinfo(admin_tokens['access_token'])\n",
    "pp.pprint(admin_userinfo)"
   ]
  },
  {
   "cell_type": "markdown",
   "id": "259a8d3a-8429-4299-a282-4832f5ef2e76",
   "metadata": {},
   "source": [
    "# System info"
   ]
  },
  {
   "cell_type": "markdown",
   "id": "c776c33f-a9e9-4c63-b12c-a79f94ae9c66",
   "metadata": {},
   "source": [
    "## OID configuration"
   ]
  },
  {
   "cell_type": "code",
   "execution_count": null,
   "id": "a25a9359-9114-4d2d-969c-050e23fdc830",
   "metadata": {},
   "outputs": [],
   "source": [
    "pp.pprint(oid_client.well_know())"
   ]
  },
  {
   "cell_type": "markdown",
   "id": "6de81717-ec92-4bfd-a7bf-684f5f08af51",
   "metadata": {},
   "source": [
    "## Application version"
   ]
  },
  {
   "cell_type": "code",
   "execution_count": null,
   "id": "d2e9ca05-a83f-4632-8cd7-a79b5f667e12",
   "metadata": {},
   "outputs": [],
   "source": [
    "print(requests.get(f'{APP_BASE_URL}/api/version').text)"
   ]
  },
  {
   "cell_type": "markdown",
   "id": "df293bb3-9bf2-434e-8250-10d2f11d677b",
   "metadata": {},
   "source": [
    "## Health status"
   ]
  },
  {
   "cell_type": "code",
   "execution_count": null,
   "id": "c4c56b8f-5600-4f04-9a7d-8d5cf8768da4",
   "metadata": {},
   "outputs": [],
   "source": [
    "public_health = requests.get(f'{APP_BASE_URL}/actuator/health')\n",
    "pp.pprint(public_health.json())"
   ]
  },
  {
   "cell_type": "code",
   "execution_count": null,
   "id": "420afc7e-af32-46e0-b3e0-cc81cd405843",
   "metadata": {},
   "outputs": [],
   "source": [
    "private_health = requests.get(\n",
    "    f'{APP_BASE_URL}/actuator/health', \n",
    "    headers=\n",
    "    {\n",
    "        \"Authorization\": f\"Bearer {admin_tokens['access_token']}\"\n",
    "    }\n",
    ")\n",
    "pp.pprint(private_health.json())"
   ]
  },
  {
   "cell_type": "markdown",
   "id": "2c26a372-c5db-4228-af7d-b30d3e79ef9d",
   "metadata": {},
   "source": [
    "## Available system metrics"
   ]
  },
  {
   "cell_type": "code",
   "execution_count": null,
   "id": "0ff1dc7d-4f91-4a6a-ac87-e0641a476850",
   "metadata": {},
   "outputs": [],
   "source": [
    "metrics = requests.get(\n",
    "    f'{APP_BASE_URL}/actuator/metrics', \n",
    "    headers=\n",
    "    {\n",
    "        \"Authorization\": f\"Bearer {admin_tokens['access_token']}\"\n",
    "    }\n",
    ")\n",
    "pp.pprint(metrics.json()['names'])"
   ]
  },
  {
   "cell_type": "markdown",
   "id": "857b06a2-4077-40c7-a9e4-5961fe0db981",
   "metadata": {},
   "source": [
    "## HTTP server request metrics"
   ]
  },
  {
   "cell_type": "code",
   "execution_count": null,
   "id": "cdacd8eb-6c9d-43a4-9851-86a50fcf7359",
   "metadata": {},
   "outputs": [],
   "source": [
    "request_metrics = requests.get(\n",
    "    f'{APP_BASE_URL}/actuator/metrics/http.server.requests', \n",
    "    headers=\n",
    "    {\n",
    "        \"Authorization\": f\"Bearer {admin_tokens['access_token']}\"\n",
    "    }\n",
    ")\n",
    "pp.pprint(request_metrics.json())"
   ]
  },
  {
   "cell_type": "markdown",
   "id": "b0b2e76f-bc12-4136-8b46-eaeed3a727ec",
   "metadata": {},
   "source": [
    "## Prometheus metrics"
   ]
  },
  {
   "cell_type": "code",
   "execution_count": null,
   "id": "a301bc2b-a326-4be7-bfb1-577909e95055",
   "metadata": {},
   "outputs": [],
   "source": [
    "prometheus_metrics = requests.get(\n",
    "    f'{APP_BASE_URL}/actuator/prometheus', \n",
    "    headers=\n",
    "    {\n",
    "        \"Authorization\": f\"Bearer {admin_tokens['access_token']}\"\n",
    "    }\n",
    ")\n",
    "pp.pprint(prometheus_metrics.text)"
   ]
  },
  {
   "cell_type": "markdown",
   "id": "aa7b1096-57fb-47ae-9b03-7e1b4ff30a4e",
   "metadata": {},
   "source": [
    "## Replay status"
   ]
  },
  {
   "cell_type": "code",
   "execution_count": null,
   "id": "268e925f-d027-46e5-af01-f18b5c36fcb7",
   "metadata": {},
   "outputs": [],
   "source": [
    "replay_status = requests.get(\n",
    "    f'{APP_BASE_URL}/actuator/replay', \n",
    "    headers=\n",
    "    {\n",
    "        \"Authorization\": f\"Bearer {admin_tokens['access_token']}\"\n",
    "    }\n",
    ")\n",
    "pp.pprint(replay_status.json())"
   ]
  },
  {
   "cell_type": "markdown",
   "id": "70aad4be-5225-47e8-b385-1ece0fa0bb47",
   "metadata": {},
   "source": [
    "## Trigger replay"
   ]
  },
  {
   "cell_type": "code",
   "execution_count": null,
   "id": "22914956-8e42-4c51-a5d8-4b4c42463588",
   "metadata": {},
   "outputs": [],
   "source": [
    "response = requests.post(\n",
    "    f'{APP_BASE_URL}/actuator/replay', \n",
    "    headers=\n",
    "    {\n",
    "        \"Authorization\": f\"Bearer {admin_tokens['access_token']}\"\n",
    "    },\n",
    "    json={}\n",
    ")\n",
    "# You are expecting a 204 NO-CONTENT response here\n",
    "pp.pprint(response.status_code)"
   ]
  },
  {
   "cell_type": "markdown",
   "id": "9ce0696b-88c3-480b-b2ca-014122675f6b",
   "metadata": {},
   "source": [
    "# Self registration scenario"
   ]
  },
  {
   "cell_type": "markdown",
   "id": "eec78d47-d4f5-41e8-af56-4fe6c3cc30af",
   "metadata": {},
   "source": [
    "## Simulated user self registration for Bob"
   ]
  },
  {
   "cell_type": "code",
   "execution_count": null,
   "id": "e4f39ed8-385f-415c-a8ff-63719a66e591",
   "metadata": {},
   "outputs": [],
   "source": [
    "keycloak_admin = KeycloakAdmin(\n",
    "    server_url=f\"{KEYCLOAK_BASE_URL}/auth/\",\n",
    "    username=KEYCLOAK_ADMIN_USERNAME,\n",
    "    password=KEYCLOAK_ADMIN_PASSWORD,\n",
    "    realm_name='default',\n",
    "    user_realm_name='master',\n",
    "    verify=False)"
   ]
  },
  {
   "cell_type": "code",
   "execution_count": null,
   "id": "4aefdcb9-9da9-431a-912b-240e9849c8a3",
   "metadata": {},
   "outputs": [],
   "source": [
    "bob_user_id = keycloak_admin.create_user(\n",
    "    {\n",
    "        \"email\": \"bob@example.com\",\n",
    "        \"username\": \"bob@example.com\",\n",
    "        \"enabled\": True,\n",
    "        \"firstName\": \"Bob\",\n",
    "        \"lastName\": \"Example\",\n",
    "        \"credentials\": [{\"value\": \"password-here\", \"type\": \"password\"}]\n",
    "    }\n",
    ")         \n",
    "pp.pprint(bob_user_id)"
   ]
  },
  {
   "cell_type": "markdown",
   "id": "1430f1ff-bc6a-4f48-aac5-dcaf5f0c6f01",
   "metadata": {},
   "source": [
    "## Bob's user and organisation does not exist until first use"
   ]
  },
  {
   "cell_type": "code",
   "execution_count": null,
   "id": "87c3654c-c192-4346-a5f2-4141b9774689",
   "metadata": {},
   "outputs": [],
   "source": [
    "response = requests.get(f'{APP_BASE_URL}/api/users',\n",
    "    headers=\n",
    "    {\n",
    "        \"Authorization\": f\"Bearer {admin_tokens['access_token']}\"\n",
    "    }\n",
    ")\n",
    "pp.pprint(response.json())"
   ]
  },
  {
   "cell_type": "code",
   "execution_count": null,
   "id": "cfb3721c-d23e-4bc8-b0f8-b2d4cc863052",
   "metadata": {},
   "outputs": [],
   "source": [
    "response = requests.get(f'{APP_BASE_URL}/admin/organizations',\n",
    "    headers=\n",
    "    {\n",
    "        \"Authorization\": f\"Bearer {admin_tokens['access_token']}\"\n",
    "    }\n",
    ")\n",
    "pp.pprint(response.json())"
   ]
  },
  {
   "cell_type": "markdown",
   "id": "90f38654-7fb1-4c2e-8ba2-514d72765314",
   "metadata": {},
   "source": [
    "## Bob logs in"
   ]
  },
  {
   "cell_type": "code",
   "execution_count": null,
   "id": "03b0b115-49cb-4b4a-a5b9-ad7c11cb9f54",
   "metadata": {
    "tags": []
   },
   "outputs": [],
   "source": [
    "bob_tokens = oid_client.token('bob@example.com', 'password-here')\n",
    "pp.pprint(bob_tokens)"
   ]
  },
  {
   "cell_type": "markdown",
   "id": "575eef8f-68d7-4497-805b-504deed288b7",
   "metadata": {},
   "source": [
    "## Bob retrieves profile details"
   ]
  },
  {
   "cell_type": "code",
   "execution_count": null,
   "id": "765025bd-b53c-4577-a05b-a99493752638",
   "metadata": {},
   "outputs": [],
   "source": [
    "# After this call you can go back up and check - the user and their default organisation should now be available\n",
    "response = requests.get(f'{APP_BASE_URL}/api/user',\n",
    "    headers=\n",
    "    {\n",
    "        \"Authorization\": f\"Bearer {bob_tokens['access_token']}\"\n",
    "    }\n",
    ").json()\n",
    "pp.pprint(response)\n",
    "bob_org_id = response['organizationId']"
   ]
  },
  {
   "cell_type": "markdown",
   "id": "23adb556-163f-4af2-82ac-ca5bb6ffa4b9",
   "metadata": {},
   "source": [
    "## Bob uploads profile photo"
   ]
  },
  {
   "cell_type": "code",
   "execution_count": null,
   "id": "e48e806b-677b-424b-ab77-26a6583f9e93",
   "metadata": {},
   "outputs": [],
   "source": [
    "with open('profile.jpg', 'rb') as image:\n",
    "    response = requests.post(f'{APP_BASE_URL}/api/user/profile-photo',\n",
    "        headers=\n",
    "        {\n",
    "            \"Authorization\": f\"Bearer {bob_tokens['access_token']}\"\n",
    "        },\n",
    "        files= \n",
    "        {\n",
    "            'file': image\n",
    "        }\n",
    "    )\n",
    "    print(response.status_code)"
   ]
  },
  {
   "cell_type": "markdown",
   "id": "e7c856c3-8021-4680-815b-a7d4e71e9118",
   "metadata": {},
   "source": [
    "## Bob downloads profile photo"
   ]
  },
  {
   "cell_type": "code",
   "execution_count": null,
   "id": "2b1ef0ec-9fcf-4218-98b3-6bad12876b16",
   "metadata": {},
   "outputs": [],
   "source": [
    "from IPython.display import Image\n",
    "response = requests.get(f'{APP_BASE_URL}/api/user/profile-photo/thumbnail?width=127&height=128',\n",
    "    headers=\n",
    "    {\n",
    "        \"Authorization\": f\"Bearer {bob_tokens['access_token']}\"\n",
    "    }\n",
    ")\n",
    "Image(data=response.content)"
   ]
  },
  {
   "cell_type": "markdown",
   "id": "c1003172-fc4c-4aaa-8569-68b1644486bc",
   "metadata": {},
   "source": [
    "## Admin deletes user and discards encryption key"
   ]
  },
  {
   "cell_type": "code",
   "execution_count": null,
   "id": "72620195-6ad7-4ec9-89d2-e6d8f290b7bf",
   "metadata": {},
   "outputs": [],
   "source": [
    "# After this call you can go back up and check that replays still work and that \n",
    "# Bob's information no longer appears anywhere in the API or event log\n",
    "response = requests.post(f'{APP_BASE_URL}/api/users/{bob_user_id}/forget',\n",
    "    headers=\n",
    "    {\n",
    "        'Authorization': f\"Bearer {admin_tokens['access_token']}\"\n",
    "    },\n",
    "    json={\n",
    "      'requestReason': 'GDPR request received'\n",
    "    }                  \n",
    ")\n",
    "print(response)"
   ]
  }
 ],
 "metadata": {
  "kernelspec": {
   "display_name": "Python 3 (ipykernel)",
   "language": "python",
   "name": "python3"
  },
  "language_info": {
   "codemirror_mode": {
    "name": "ipython",
    "version": 3
   },
   "file_extension": ".py",
   "mimetype": "text/x-python",
   "name": "python",
   "nbconvert_exporter": "python",
   "pygments_lexer": "ipython3",
   "version": "3.9.7"
  }
 },
 "nbformat": 4,
 "nbformat_minor": 5
}
